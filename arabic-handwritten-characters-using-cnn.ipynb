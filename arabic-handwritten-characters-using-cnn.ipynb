{
 "cells": [
  {
   "cell_type": "code",
   "execution_count": 101,
   "metadata": {
    "_cell_guid": "b1076dfc-b9ad-4769-8c92-a6c4dae69d19",
    "_uuid": "8f2839f25d086af736a60e9eeb907d3b93b6e0e5"
   },
   "outputs": [],
   "source": [
    "import numpy as np\n",
    "import os\n",
    "import pandas as pd\n",
    "import seaborn as sns\n",
    "from PIL import Image\n",
    "import matplotlib.pyplot as plt\n",
    "\n",
    "import keras\n",
    "from keras.models import Sequential\n",
    "from keras.layers import Conv2D,MaxPool2D,Flatten,Dense,Dropout\n",
    "from keras.utils import to_categorical\n",
    "from keras.preprocessing.image import ImageDataGenerator"
   ]
  },
  {
   "cell_type": "code",
   "execution_count": 70,
   "metadata": {
    "_cell_guid": "79c7e3d0-c299-4dcb-8224-4455121ee9b0",
    "_uuid": "d629ff2d2480ee46fbb7e2d37f6b5fab8052498a"
   },
   "outputs": [],
   "source": [
    "train_images = pd.read_csv('C:/Users/PCr/travaux/hand_written/csvTrainImages 13440x1024.csv')\n",
    "train_label = pd.read_csv('C:/Users/PCr/travaux/hand_written/csvTrainLabel 13440x1.csv')\n",
    "\n",
    "test_images = pd.read_csv('C:/Users/PCr/travaux/hand_written/csvTestImages 3360x1024.csv')\n",
    "test_label = pd.read_csv('C:/Users/PCr/travaux/hand_written/csvTestLabel 3360x1.csv')"
   ]
  },
  {
   "cell_type": "code",
   "execution_count": 71,
   "metadata": {},
   "outputs": [],
   "source": [
    "train_images = train_images.iloc[:,:].values\n",
    "train_label = train_label.iloc[:,:].values\n",
    "\n",
    "test_images = test_images.iloc[:,:].values\n",
    "test_label = test_label.iloc[:,:].values"
   ]
  },
  {
   "cell_type": "code",
   "execution_count": 72,
   "metadata": {},
   "outputs": [
    {
     "data": {
      "text/plain": [
       "(1024,)"
      ]
     },
     "execution_count": 72,
     "metadata": {},
     "output_type": "execute_result"
    }
   ],
   "source": [
    "train_images[0].shape"
   ]
  },
  {
   "cell_type": "code",
   "execution_count": 73,
   "metadata": {},
   "outputs": [
    {
     "data": {
      "text/plain": [
       "array([1])"
      ]
     },
     "execution_count": 73,
     "metadata": {},
     "output_type": "execute_result"
    }
   ],
   "source": [
    "train_label[0]"
   ]
  },
  {
   "cell_type": "code",
   "execution_count": 74,
   "metadata": {},
   "outputs": [
    {
     "data": {
      "text/plain": [
       "(13439, 1024)"
      ]
     },
     "execution_count": 74,
     "metadata": {},
     "output_type": "execute_result"
    }
   ],
   "source": [
    "train_images.shape"
   ]
  },
  {
   "cell_type": "code",
   "execution_count": 75,
   "metadata": {},
   "outputs": [],
   "source": [
    "train_images = train_images.reshape(train_images.shape[0], 32, 32)\n",
    "test_images = test_images.reshape(test_images.shape[0],32,32)"
   ]
  },
  {
   "cell_type": "code",
   "execution_count": 76,
   "metadata": {},
   "outputs": [
    {
     "name": "stdout",
     "output_type": "stream",
     "text": [
      "Train images shape:  (13439, 32, 32)\n",
      "Train labels shape:  (13439, 1)\n",
      "Test images shape:  (3359, 32, 32)\n",
      "Test labels shape:  (3359, 1)\n"
     ]
    }
   ],
   "source": [
    "print(\"Train images shape: \",train_images.shape)\n",
    "print(\"Train labels shape: \",train_label.shape)\n",
    "\n",
    "print(\"Test images shape: \",test_images.shape)\n",
    "print(\"Test labels shape: \",test_label.shape)"
   ]
  },
  {
   "cell_type": "code",
   "execution_count": 77,
   "metadata": {},
   "outputs": [
    {
     "data": {
      "image/png": "[encoded data removed]",
      "text/plain": [
       "<Figure size 1440x1440 with 8 Axes>"
      ]
     },
     "metadata": {
      "needs_background": "light"
     },
     "output_type": "display_data"
    }
   ],
   "source": [
    "fig, ax = plt.subplots(4,2,figsize=(20,20))\n",
    "\n",
    "for i in range(4):\n",
    "    for j in range(2):\n",
    "        ax[i,j].imshow(train_images[i])"
   ]
  },
  {
   "cell_type": "code",
   "execution_count": 78,
   "metadata": {},
   "outputs": [
    {
     "data": {
      "text/plain": [
       "255"
      ]
     },
     "execution_count": 78,
     "metadata": {},
     "output_type": "execute_result"
    }
   ],
   "source": [
    "train_images.max()"
   ]
  },
  {
   "cell_type": "code",
   "execution_count": 79,
   "metadata": {},
   "outputs": [
    {
     "data": {
      "text/plain": [
       "0"
      ]
     },
     "execution_count": 79,
     "metadata": {},
     "output_type": "execute_result"
    }
   ],
   "source": [
    "train_images.min()"
   ]
  },
  {
   "cell_type": "code",
   "execution_count": 80,
   "metadata": {},
   "outputs": [
    {
     "data": {
      "text/plain": [
       "28"
      ]
     },
     "execution_count": 80,
     "metadata": {},
     "output_type": "execute_result"
    }
   ],
   "source": [
    "train_label.max()"
   ]
  },
  {
   "cell_type": "code",
   "execution_count": 81,
   "metadata": {},
   "outputs": [],
   "source": [
    "#Normalize \n",
    "\n",
    "train_images = train_images/255.0\n",
    "test_images = test_images/255.0"
   ]
  },
  {
   "cell_type": "code",
   "execution_count": 82,
   "metadata": {},
   "outputs": [
    {
     "data": {
      "text/plain": [
       "1.0"
      ]
     },
     "execution_count": 82,
     "metadata": {},
     "output_type": "execute_result"
    }
   ],
   "source": [
    "train_images.max()"
   ]
  },
  {
   "cell_type": "code",
   "execution_count": 83,
   "metadata": {},
   "outputs": [
    {
     "data": {
      "text/plain": [
       "13439"
      ]
     },
     "execution_count": 83,
     "metadata": {},
     "output_type": "execute_result"
    }
   ],
   "source": [
    "len(train_images)"
   ]
  },
  {
   "cell_type": "code",
   "execution_count": 84,
   "metadata": {},
   "outputs": [],
   "source": [
    "X_train = train_images[1000:]\n",
    "X_valid = train_images[:1000]\n",
    "\n",
    "y_train = train_label[1000:]\n",
    "y_valid = train_label[:1000]"
   ]
  },
  {
   "cell_type": "code",
   "execution_count": 85,
   "metadata": {},
   "outputs": [
    {
     "data": {
      "text/plain": [
       "29"
      ]
     },
     "execution_count": 85,
     "metadata": {},
     "output_type": "execute_result"
    }
   ],
   "source": [
    "num_classes = len(np.unique(train_label)) + 1\n",
    "num_classes"
   ]
  },
  {
   "cell_type": "code",
   "execution_count": 86,
   "metadata": {},
   "outputs": [],
   "source": [
    "X_test = test_images[:]\n",
    "y_test = test_label[:]"
   ]
  },
  {
   "cell_type": "code",
   "execution_count": 87,
   "metadata": {},
   "outputs": [],
   "source": [
    "y_train = to_categorical(y_train,num_classes)\n",
    "y_valid = to_categorical(y_valid,num_classes)\n",
    "y_test = to_categorical(y_test,num_classes)"
   ]
  },
  {
   "cell_type": "code",
   "execution_count": 88,
   "metadata": {},
   "outputs": [
    {
     "data": {
      "text/plain": [
       "array([[0., 0., 0., ..., 0., 0., 0.],\n",
       "       [0., 0., 0., ..., 0., 0., 0.],\n",
       "       [0., 0., 0., ..., 0., 0., 0.],\n",
       "       ...,\n",
       "       [0., 0., 0., ..., 0., 0., 1.],\n",
       "       [0., 0., 0., ..., 0., 0., 1.],\n",
       "       [0., 0., 0., ..., 0., 0., 1.]], dtype=float32)"
      ]
     },
     "execution_count": 88,
     "metadata": {},
     "output_type": "execute_result"
    }
   ],
   "source": [
    "y_train"
   ]
  },
  {
   "cell_type": "code",
   "execution_count": 89,
   "metadata": {},
   "outputs": [
    {
     "name": "stdout",
     "output_type": "stream",
     "text": [
      "X train shape:  (12439, 32, 32)\n"
     ]
    }
   ],
   "source": [
    "print(\"X train shape: \",X_train.shape)"
   ]
  },
  {
   "cell_type": "code",
   "execution_count": 90,
   "metadata": {},
   "outputs": [
    {
     "name": "stdout",
     "output_type": "stream",
     "text": [
      "Training samples:  12439\n",
      "Validation samples:  1000\n",
      "Testing samples:  3359\n"
     ]
    }
   ],
   "source": [
    "print(\"Training samples: \",X_train.shape[0])\n",
    "print(\"Validation samples: \",X_valid.shape[0])\n",
    "print(\"Testing samples: \",X_test.shape[0])"
   ]
  },
  {
   "cell_type": "code",
   "execution_count": 91,
   "metadata": {},
   "outputs": [],
   "source": [
    "X_train = X_train.reshape([-1, 32, 32, 1])\n",
    "X_test = X_test.reshape([-1, 32, 32, 1])\n",
    "X_valid = X_valid.reshape([-1, 32, 32, 1])"
   ]
  },
  {
   "cell_type": "code",
   "execution_count": 92,
   "metadata": {},
   "outputs": [
    {
     "data": {
      "text/plain": [
       "(12439, 32, 32, 1)"
      ]
     },
     "execution_count": 92,
     "metadata": {},
     "output_type": "execute_result"
    }
   ],
   "source": [
    "X_train.shape"
   ]
  },
  {
   "cell_type": "code",
   "execution_count": 93,
   "metadata": {},
   "outputs": [],
   "source": [
    "model = Sequential()"
   ]
  },
  {
   "cell_type": "code",
   "execution_count": 94,
   "metadata": {},
   "outputs": [
    {
     "data": {
      "text/plain": [
       "(32, 32, 1)"
      ]
     },
     "execution_count": 94,
     "metadata": {},
     "output_type": "execute_result"
    }
   ],
   "source": [
    "X_train.shape[1:]"
   ]
  },
  {
   "cell_type": "code",
   "execution_count": 95,
   "metadata": {},
   "outputs": [],
   "source": [
    "model.add(Conv2D(filters=16, kernel_size=2, padding='same', activation='relu', input_shape=(32,32,1)))\n",
    "model.add(MaxPool2D(pool_size=2))\n",
    "\n",
    "model.add(Conv2D(filters=32, kernel_size=2, padding='same', activation='relu'))\n",
    "model.add(MaxPool2D(pool_size=2))\n",
    "\n",
    "model.add(Conv2D(filters=64, kernel_size=2, padding='same', activation='relu'))\n",
    "model.add(MaxPool2D(pool_size=2))"
   ]
  },
  {
   "cell_type": "code",
   "execution_count": 96,
   "metadata": {},
   "outputs": [
    {
     "name": "stdout",
     "output_type": "stream",
     "text": [
      "Model: \"sequential_2\"\n",
      "_________________________________________________________________\n",
      "Layer (type)                 Output Shape              Param #   \n",
      "=================================================================\n",
      "conv2d_5 (Conv2D)            (None, 32, 32, 16)        80        \n",
      "_________________________________________________________________\n",
      "max_pooling2d_4 (MaxPooling2 (None, 16, 16, 16)        0         \n",
      "_________________________________________________________________\n",
      "conv2d_6 (Conv2D)            (None, 16, 16, 32)        2080      \n",
      "_________________________________________________________________\n",
      "max_pooling2d_5 (MaxPooling2 (None, 8, 8, 32)          0         \n",
      "_________________________________________________________________\n",
      "conv2d_7 (Conv2D)            (None, 8, 8, 64)          8256      \n",
      "_________________________________________________________________\n",
      "max_pooling2d_6 (MaxPooling2 (None, 4, 4, 64)          0         \n",
      "=================================================================\n",
      "Total params: 10,416\n",
      "Trainable params: 10,416\n",
      "Non-trainable params: 0\n",
      "_________________________________________________________________\n"
     ]
    }
   ],
   "source": [
    "model.summary()"
   ]
  },
  {
   "cell_type": "code",
   "execution_count": 97,
   "metadata": {},
   "outputs": [],
   "source": [
    "model.add(Flatten())"
   ]
  },
  {
   "cell_type": "code",
   "execution_count": 98,
   "metadata": {},
   "outputs": [],
   "source": [
    "model.add(Dense(512,activation='relu'))\n",
    "model.add(Dropout(0.3))\n",
    "\n",
    "model.add(Dense(256,activation='relu'))\n",
    "model.add(Dropout(0.3))\n",
    "\n",
    "model.add(Dense(29,activation='softmax'))"
   ]
  },
  {
   "cell_type": "code",
   "execution_count": 99,
   "metadata": {},
   "outputs": [
    {
     "name": "stdout",
     "output_type": "stream",
     "text": [
      "Model: \"sequential_2\"\n",
      "_________________________________________________________________\n",
      "Layer (type)                 Output Shape              Param #   \n",
      "=================================================================\n",
      "conv2d_5 (Conv2D)            (None, 32, 32, 16)        80        \n",
      "_________________________________________________________________\n",
      "max_pooling2d_4 (MaxPooling2 (None, 16, 16, 16)        0         \n",
      "_________________________________________________________________\n",
      "conv2d_6 (Conv2D)            (None, 16, 16, 32)        2080      \n",
      "_________________________________________________________________\n",
      "max_pooling2d_5 (MaxPooling2 (None, 8, 8, 32)          0         \n",
      "_________________________________________________________________\n",
      "conv2d_7 (Conv2D)            (None, 8, 8, 64)          8256      \n",
      "_________________________________________________________________\n",
      "max_pooling2d_6 (MaxPooling2 (None, 4, 4, 64)          0         \n",
      "_________________________________________________________________\n",
      "flatten_1 (Flatten)          (None, 1024)              0         \n",
      "_________________________________________________________________\n",
      "dense_1 (Dense)              (None, 512)               524800    \n",
      "_________________________________________________________________\n",
      "dropout_2 (Dropout)          (None, 512)               0         \n",
      "_________________________________________________________________\n",
      "dense_2 (Dense)              (None, 256)               131328    \n",
      "_________________________________________________________________\n",
      "dropout_3 (Dropout)          (None, 256)               0         \n",
      "_________________________________________________________________\n",
      "dense_3 (Dense)              (None, 29)                7453      \n",
      "=================================================================\n",
      "Total params: 673,997\n",
      "Trainable params: 673,997\n",
      "Non-trainable params: 0\n",
      "_________________________________________________________________\n"
     ]
    }
   ],
   "source": [
    "model.summary()"
   ]
  },
  {
   "cell_type": "code",
   "execution_count": 100,
   "metadata": {},
   "outputs": [],
   "source": [
    "model.compile(loss='categorical_crossentropy', optimizer='rmsprop', \n",
    "                  metrics=['accuracy'])"
   ]
  },
  {
   "cell_type": "code",
   "execution_count": 102,
   "metadata": {},
   "outputs": [],
   "source": [
    "data_gen = ImageDataGenerator(width_shift_range=0.1,\n",
    "                             height_shift_range=0.1,\n",
    "                             horizontal_flip=True)"
   ]
  },
  {
   "cell_type": "code",
   "execution_count": 103,
   "metadata": {},
   "outputs": [],
   "source": [
    "data_gen.fit(X_train)"
   ]
  },
  {
   "cell_type": "code",
   "execution_count": 112,
   "metadata": {},
   "outputs": [
    {
     "name": "stdout",
     "output_type": "stream",
     "text": [
      "Epoch 1/100\n",
      " - 7s - loss: 0.8946 - accuracy: 0.6848 - val_loss: 0.9438 - val_accuracy: 0.6710\n",
      "Epoch 2/100\n",
      " - 7s - loss: 0.8386 - accuracy: 0.6984 - val_loss: 0.9112 - val_accuracy: 0.7100\n",
      "Epoch 3/100\n",
      " - 7s - loss: 0.7864 - accuracy: 0.7145 - val_loss: 0.9028 - val_accuracy: 0.7050\n",
      "Epoch 4/100\n",
      " - 6s - loss: 0.7655 - accuracy: 0.7308 - val_loss: 0.8494 - val_accuracy: 0.7370\n",
      "Epoch 5/100\n",
      " - 6s - loss: 0.7245 - accuracy: 0.7479 - val_loss: 0.9061 - val_accuracy: 0.7280\n",
      "Epoch 6/100\n",
      " - 6s - loss: 0.6947 - accuracy: 0.7535 - val_loss: 0.8669 - val_accuracy: 0.7330\n",
      "Epoch 7/100\n",
      " - 6s - loss: 0.6715 - accuracy: 0.7638 - val_loss: 0.7672 - val_accuracy: 0.7710\n",
      "Epoch 8/100\n",
      " - 6s - loss: 0.6317 - accuracy: 0.7765 - val_loss: 0.7839 - val_accuracy: 0.7570\n",
      "Epoch 9/100\n",
      " - 6s - loss: 0.6086 - accuracy: 0.7825 - val_loss: 0.7522 - val_accuracy: 0.7620\n",
      "Epoch 10/100\n",
      " - 6s - loss: 0.5987 - accuracy: 0.7901 - val_loss: 0.8024 - val_accuracy: 0.7580\n",
      "Epoch 11/100\n",
      " - 7s - loss: 0.5674 - accuracy: 0.8023 - val_loss: 0.6711 - val_accuracy: 0.8100\n",
      "Epoch 12/100\n",
      " - 6s - loss: 0.5583 - accuracy: 0.8048 - val_loss: 0.7011 - val_accuracy: 0.7870\n",
      "Epoch 13/100\n",
      " - 6s - loss: 0.5269 - accuracy: 0.8152 - val_loss: 0.6506 - val_accuracy: 0.8230\n",
      "Epoch 14/100\n",
      " - 6s - loss: 0.5175 - accuracy: 0.8232 - val_loss: 0.6517 - val_accuracy: 0.8130\n",
      "Epoch 15/100\n",
      " - 6s - loss: 0.5060 - accuracy: 0.8254 - val_loss: 0.6266 - val_accuracy: 0.8190\n",
      "Epoch 16/100\n",
      " - 6s - loss: 0.4789 - accuracy: 0.8294 - val_loss: 0.8018 - val_accuracy: 0.7640\n",
      "Epoch 17/100\n",
      " - 6s - loss: 0.4785 - accuracy: 0.8369 - val_loss: 0.6263 - val_accuracy: 0.8230\n",
      "Epoch 18/100\n",
      " - 6s - loss: 0.4564 - accuracy: 0.8438 - val_loss: 0.5581 - val_accuracy: 0.8480\n",
      "Epoch 19/100\n",
      " - 6s - loss: 0.4413 - accuracy: 0.8470 - val_loss: 0.6088 - val_accuracy: 0.8250\n",
      "Epoch 20/100\n",
      " - 6s - loss: 0.4299 - accuracy: 0.8526 - val_loss: 0.5849 - val_accuracy: 0.8450\n",
      "Epoch 21/100\n",
      " - 7s - loss: 0.4244 - accuracy: 0.8510 - val_loss: 0.5315 - val_accuracy: 0.8540\n",
      "Epoch 22/100\n",
      " - 6s - loss: 0.4124 - accuracy: 0.8595 - val_loss: 0.6295 - val_accuracy: 0.8240\n",
      "Epoch 23/100\n",
      " - 6s - loss: 0.3995 - accuracy: 0.8620 - val_loss: 0.6173 - val_accuracy: 0.8330\n",
      "Epoch 24/100\n",
      " - 6s - loss: 0.3948 - accuracy: 0.8632 - val_loss: 0.5903 - val_accuracy: 0.8470\n",
      "Epoch 25/100\n",
      " - 6s - loss: 0.3763 - accuracy: 0.8689 - val_loss: 0.6051 - val_accuracy: 0.8440\n",
      "Epoch 26/100\n",
      " - 6s - loss: 0.3784 - accuracy: 0.8696 - val_loss: 0.6469 - val_accuracy: 0.8340\n",
      "Epoch 27/100\n",
      " - 6s - loss: 0.3644 - accuracy: 0.8760 - val_loss: 0.6479 - val_accuracy: 0.8370\n",
      "Epoch 28/100\n",
      " - 7s - loss: 0.3655 - accuracy: 0.8713 - val_loss: 0.5726 - val_accuracy: 0.8420\n",
      "Epoch 29/100\n",
      " - 7s - loss: 0.3548 - accuracy: 0.8809 - val_loss: 0.7119 - val_accuracy: 0.8290\n",
      "Epoch 30/100\n",
      " - 7s - loss: 0.3563 - accuracy: 0.8814 - val_loss: 0.5448 - val_accuracy: 0.8450\n",
      "Epoch 31/100\n",
      " - 7s - loss: 0.3420 - accuracy: 0.8836 - val_loss: 0.5209 - val_accuracy: 0.8500\n",
      "Epoch 32/100\n",
      " - 6s - loss: 0.3421 - accuracy: 0.8824 - val_loss: 0.6934 - val_accuracy: 0.8230\n",
      "Epoch 33/100\n",
      " - 6s - loss: 0.3385 - accuracy: 0.8869 - val_loss: 0.5447 - val_accuracy: 0.8610\n",
      "Epoch 34/100\n",
      " - 6s - loss: 0.3380 - accuracy: 0.8873 - val_loss: 0.5405 - val_accuracy: 0.8730\n",
      "Epoch 35/100\n",
      " - 6s - loss: 0.3037 - accuracy: 0.8959 - val_loss: 0.5261 - val_accuracy: 0.8630\n",
      "Epoch 36/100\n",
      " - 6s - loss: 0.3251 - accuracy: 0.8886 - val_loss: 0.5697 - val_accuracy: 0.8530\n",
      "Epoch 37/100\n",
      " - 6s - loss: 0.3096 - accuracy: 0.8977 - val_loss: 0.7084 - val_accuracy: 0.8150\n",
      "Epoch 38/100\n",
      " - 6s - loss: 0.3104 - accuracy: 0.8967 - val_loss: 0.5196 - val_accuracy: 0.8570\n",
      "Epoch 39/100\n",
      " - 7s - loss: 0.3030 - accuracy: 0.8960 - val_loss: 0.5489 - val_accuracy: 0.8570\n",
      "Epoch 40/100\n",
      " - 7s - loss: 0.3054 - accuracy: 0.8999 - val_loss: 0.5093 - val_accuracy: 0.8670\n",
      "Epoch 41/100\n",
      " - 6s - loss: 0.2902 - accuracy: 0.9036 - val_loss: 0.5024 - val_accuracy: 0.8650\n",
      "Epoch 42/100\n",
      " - 6s - loss: 0.2909 - accuracy: 0.9012 - val_loss: 0.4116 - val_accuracy: 0.8870\n",
      "Epoch 43/100\n",
      " - 6s - loss: 0.2961 - accuracy: 0.9007 - val_loss: 0.5275 - val_accuracy: 0.8680\n",
      "Epoch 44/100\n",
      " - 7s - loss: 0.2686 - accuracy: 0.9089 - val_loss: 0.5079 - val_accuracy: 0.8690\n",
      "Epoch 45/100\n",
      " - 6s - loss: 0.2816 - accuracy: 0.9042 - val_loss: 0.5102 - val_accuracy: 0.8670\n",
      "Epoch 46/100\n",
      " - 6s - loss: 0.2732 - accuracy: 0.9080 - val_loss: 0.5095 - val_accuracy: 0.8650\n",
      "Epoch 47/100\n",
      " - 6s - loss: 0.2729 - accuracy: 0.9092 - val_loss: 0.5123 - val_accuracy: 0.8760\n",
      "Epoch 48/100\n",
      " - 7s - loss: 0.2680 - accuracy: 0.9107 - val_loss: 0.4532 - val_accuracy: 0.8720\n",
      "Epoch 49/100\n",
      " - 7s - loss: 0.2616 - accuracy: 0.9120 - val_loss: 0.4619 - val_accuracy: 0.8920\n",
      "Epoch 50/100\n",
      " - 6s - loss: 0.2565 - accuracy: 0.9137 - val_loss: 0.4574 - val_accuracy: 0.8880\n",
      "Epoch 51/100\n",
      " - 7s - loss: 0.2721 - accuracy: 0.9096 - val_loss: 0.5047 - val_accuracy: 0.8710\n",
      "Epoch 52/100\n",
      " - 6s - loss: 0.2560 - accuracy: 0.9141 - val_loss: 0.5667 - val_accuracy: 0.8770\n",
      "Epoch 53/100\n",
      " - 6s - loss: 0.2574 - accuracy: 0.9151 - val_loss: 0.4984 - val_accuracy: 0.8900\n",
      "Epoch 54/100\n",
      " - 6s - loss: 0.2523 - accuracy: 0.9162 - val_loss: 0.5617 - val_accuracy: 0.8750\n",
      "Epoch 55/100\n",
      " - 6s - loss: 0.2523 - accuracy: 0.9169 - val_loss: 0.5222 - val_accuracy: 0.8860\n",
      "Epoch 56/100\n",
      " - 6s - loss: 0.2524 - accuracy: 0.9171 - val_loss: 0.4180 - val_accuracy: 0.8980\n",
      "Epoch 57/100\n",
      " - 6s - loss: 0.2367 - accuracy: 0.9217 - val_loss: 0.5741 - val_accuracy: 0.8490\n",
      "Epoch 58/100\n",
      " - 7s - loss: 0.2407 - accuracy: 0.9172 - val_loss: 0.5529 - val_accuracy: 0.8580\n",
      "Epoch 59/100\n",
      " - 6s - loss: 0.2425 - accuracy: 0.9186 - val_loss: 0.5017 - val_accuracy: 0.8810\n",
      "Epoch 60/100\n",
      " - 6s - loss: 0.2378 - accuracy: 0.9224 - val_loss: 0.4088 - val_accuracy: 0.9020\n",
      "Epoch 61/100\n",
      " - 6s - loss: 0.2393 - accuracy: 0.9204 - val_loss: 0.5960 - val_accuracy: 0.8700\n",
      "Epoch 62/100\n",
      " - 6s - loss: 0.2320 - accuracy: 0.9210 - val_loss: 0.5459 - val_accuracy: 0.8810\n",
      "Epoch 63/100\n",
      " - 6s - loss: 0.2277 - accuracy: 0.9235 - val_loss: 0.7045 - val_accuracy: 0.8550\n",
      "Epoch 64/100\n",
      " - 6s - loss: 0.2356 - accuracy: 0.9233 - val_loss: 0.6428 - val_accuracy: 0.8700\n",
      "Epoch 65/100\n",
      " - 6s - loss: 0.2275 - accuracy: 0.9251 - val_loss: 0.5120 - val_accuracy: 0.8930\n",
      "Epoch 66/100\n",
      " - 6s - loss: 0.2370 - accuracy: 0.9200 - val_loss: 0.4997 - val_accuracy: 0.8880\n",
      "Epoch 67/100\n",
      " - 7s - loss: 0.2268 - accuracy: 0.9242 - val_loss: 0.4469 - val_accuracy: 0.8980\n",
      "Epoch 68/100\n",
      " - 6s - loss: 0.2249 - accuracy: 0.9282 - val_loss: 0.4571 - val_accuracy: 0.9010\n",
      "Epoch 69/100\n",
      " - 6s - loss: 0.2256 - accuracy: 0.9273 - val_loss: 0.5138 - val_accuracy: 0.8920\n",
      "Epoch 70/100\n",
      " - 6s - loss: 0.2241 - accuracy: 0.9245 - val_loss: 0.5691 - val_accuracy: 0.8630\n",
      "Epoch 71/100\n",
      " - 6s - loss: 0.2307 - accuracy: 0.9249 - val_loss: 0.5456 - val_accuracy: 0.8700\n",
      "Epoch 72/100\n",
      " - 8s - loss: 0.2209 - accuracy: 0.9277 - val_loss: 0.4637 - val_accuracy: 0.8940\n",
      "Epoch 73/100\n",
      " - 6s - loss: 0.2214 - accuracy: 0.9271 - val_loss: 0.4552 - val_accuracy: 0.8910\n",
      "Epoch 74/100\n",
      " - 6s - loss: 0.2266 - accuracy: 0.9242 - val_loss: 0.4678 - val_accuracy: 0.8800\n",
      "Epoch 75/100\n",
      " - 6s - loss: 0.2256 - accuracy: 0.9292 - val_loss: 0.5362 - val_accuracy: 0.8730\n",
      "Epoch 76/100\n",
      " - 7s - loss: 0.2178 - accuracy: 0.9317 - val_loss: 0.4460 - val_accuracy: 0.8920\n",
      "Epoch 77/100\n",
      " - 7s - loss: 0.2228 - accuracy: 0.9290 - val_loss: 0.4171 - val_accuracy: 0.9000\n",
      "Epoch 78/100\n",
      " - 6s - loss: 0.2191 - accuracy: 0.9310 - val_loss: 0.4991 - val_accuracy: 0.8950\n",
      "Epoch 79/100\n",
      " - 6s - loss: 0.2102 - accuracy: 0.9298 - val_loss: 0.4958 - val_accuracy: 0.8880\n",
      "Epoch 80/100\n",
      " - 6s - loss: 0.2079 - accuracy: 0.9300 - val_loss: 0.5123 - val_accuracy: 0.8860\n",
      "Epoch 81/100\n",
      " - 6s - loss: 0.2196 - accuracy: 0.9298 - val_loss: 0.6029 - val_accuracy: 0.8840\n",
      "Epoch 82/100\n",
      " - 6s - loss: 0.2102 - accuracy: 0.9294 - val_loss: 0.5417 - val_accuracy: 0.8860\n",
      "Epoch 83/100\n",
      " - 6s - loss: 0.2075 - accuracy: 0.9323 - val_loss: 0.5193 - val_accuracy: 0.8910\n",
      "Epoch 84/100\n",
      " - 6s - loss: 0.2136 - accuracy: 0.9313 - val_loss: 0.4621 - val_accuracy: 0.9110\n",
      "Epoch 85/100\n",
      " - 6s - loss: 0.2077 - accuracy: 0.9347 - val_loss: 0.5543 - val_accuracy: 0.8940\n",
      "Epoch 86/100\n",
      " - 7s - loss: 0.2206 - accuracy: 0.9306 - val_loss: 0.4671 - val_accuracy: 0.8990\n",
      "Epoch 87/100\n",
      " - 6s - loss: 0.2087 - accuracy: 0.9312 - val_loss: 0.5426 - val_accuracy: 0.8960\n"
     ]
    },
    {
     "name": "stdout",
     "output_type": "stream",
     "text": [
      "Epoch 88/100\n",
      " - 6s - loss: 0.2198 - accuracy: 0.9288 - val_loss: 0.5512 - val_accuracy: 0.8860\n",
      "Epoch 89/100\n",
      " - 6s - loss: 0.2115 - accuracy: 0.9312 - val_loss: 0.4355 - val_accuracy: 0.9070\n",
      "Epoch 90/100\n",
      " - 6s - loss: 0.2078 - accuracy: 0.9354 - val_loss: 0.3930 - val_accuracy: 0.9030\n",
      "Epoch 91/100\n",
      " - 6s - loss: 0.2095 - accuracy: 0.9364 - val_loss: 0.5387 - val_accuracy: 0.8780\n",
      "Epoch 92/100\n",
      " - 6s - loss: 0.2158 - accuracy: 0.9321 - val_loss: 0.4203 - val_accuracy: 0.9090\n",
      "Epoch 93/100\n",
      " - 6s - loss: 0.2098 - accuracy: 0.9315 - val_loss: 0.4429 - val_accuracy: 0.9130\n",
      "Epoch 94/100\n",
      " - 6s - loss: 0.2139 - accuracy: 0.9322 - val_loss: 0.4388 - val_accuracy: 0.9000\n",
      "Epoch 95/100\n",
      " - 6s - loss: 0.2134 - accuracy: 0.9331 - val_loss: 0.4940 - val_accuracy: 0.8970\n",
      "Epoch 96/100\n",
      " - 7s - loss: 0.2046 - accuracy: 0.9329 - val_loss: 0.4737 - val_accuracy: 0.9000\n",
      "Epoch 97/100\n",
      " - 6s - loss: 0.2065 - accuracy: 0.9376 - val_loss: 0.7114 - val_accuracy: 0.8820\n",
      "Epoch 98/100\n",
      " - 6s - loss: 0.2104 - accuracy: 0.9330 - val_loss: 0.4935 - val_accuracy: 0.9000\n",
      "Epoch 99/100\n",
      " - 6s - loss: 0.2207 - accuracy: 0.9325 - val_loss: 0.5087 - val_accuracy: 0.8790\n",
      "Epoch 100/100\n",
      " - 7s - loss: 0.2076 - accuracy: 0.9340 - val_loss: 0.4397 - val_accuracy: 0.9160\n"
     ]
    }
   ],
   "source": [
    "batch_size=128\n",
    "\n",
    "history = model.fit_generator(data_gen.flow(X_train, y_train, batch_size=batch_size),\n",
    "                    steps_per_epoch=X_train.shape[0] // batch_size,\n",
    "                    epochs=100, verbose=2,\n",
    "                    validation_data=(X_valid, y_valid),\n",
    "                    validation_steps=X_valid.shape[0] // batch_size)"
   ]
  },
  {
   "cell_type": "code",
   "execution_count": 117,
   "metadata": {},
   "outputs": [
    {
     "name": "stdout",
     "output_type": "stream",
     "text": [
      "\n",
      " Test accuracy: 94.70080137252808\n",
      "\n",
      " Total test Loss: 20.35157647362047\n"
     ]
    }
   ],
   "source": [
    "score = model.evaluate(X_test, y_test, verbose=0)\n",
    "print('\\n', 'Test accuracy:', score[1]*100)\n",
    "print('\\n', 'Total test Loss:', score[0]*100)"
   ]
  },
  {
   "cell_type": "code",
   "execution_count": null,
   "metadata": {},
   "outputs": [],
   "source": []
  }
 ],
 "metadata": {
  "kernelspec": {
   "display_name": "Python 3 (ipykernel)",
   "language": "python",
   "name": "python3"
  },
  "language_info": {
   "codemirror_mode": {
    "name": "ipython",
    "version": 3
   },
   "file_extension": ".py",
   "mimetype": "text/x-python",
   "name": "python",
   "nbconvert_exporter": "python",
   "pygments_lexer": "ipython3",
   "version": "3.9.12"
  }
 },
 "nbformat": 4,
 "nbformat_minor": 4
}
